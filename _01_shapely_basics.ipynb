{
 "cells": [
  {
   "cell_type": "markdown",
   "id": "contemporary-retrieval",
   "metadata": {},
   "source": [
    "Just the python code from the excellent https://automating-gis-processes.github.io/site/notebooks/L1/geometric-objects.html# (the entire course is fantastic)\n",
    "\n",
    "with some minor additions short comments"
   ]
  },
  {
   "cell_type": "code",
   "execution_count": 1,
   "id": "engaged-ribbon",
   "metadata": {},
   "outputs": [],
   "source": [
    "from shapely.geometry import Point, LineString, Polygon"
   ]
  },
  {
   "cell_type": "markdown",
   "id": "standard-compression",
   "metadata": {},
   "source": [
    "[Shapely](https://shapely.readthedocs.io/en/stable/manual.html) is a library for geometric objects. Fundamental types are\n",
    "- `Points`\n",
    "- `Lines`\n",
    "- `Polygons`\n",
    "\n",
    "Shapely can \n",
    "- create `Lines` or `Polygons` from `Collections` of `Points`\n",
    "- calculate things like lengths and areas\n",
    "- do geometric operations like `Union`, `Difference`, `Distance`\n",
    "- do spatial queries between geometries like `Intersects`, `Touches`, `Within`\n",
    "\n",
    "Geometric objects are tuples\n",
    "- `Points` can be 2-D (x, y) or 3-D (x, y, z)\n",
    "- `LineString` are sequence of points joined together (i.e. at least two co-ordinate tuples)\n",
    "- `Polygon` filled area of at least 3 co-ordinate tuples\n",
    "\n",
    "Geometric collections\n",
    "- `MultiPoint`, `MultiLineString` and `MultiPolygon` are collections of `Point`, `LineString` and `Polygon` objects (i.e. they consist of multiple parts of the these types of objects)"
   ]
  },
  {
   "cell_type": "markdown",
   "id": "athletic-heath",
   "metadata": {},
   "source": [
    "# Points"
   ]
  },
  {
   "cell_type": "code",
   "execution_count": 2,
   "id": "excellent-recall",
   "metadata": {},
   "outputs": [],
   "source": [
    "point1 = Point(2.2, 4.2)\n",
    "point2 = Point(7.2, -25.1)\n",
    "point3 = Point(9.26, -2.456)"
   ]
  },
  {
   "cell_type": "code",
   "execution_count": 3,
   "id": "declared-reach",
   "metadata": {},
   "outputs": [
    {
     "data": {
      "image/svg+xml": [
       "<svg xmlns=\"http://www.w3.org/2000/svg\" xmlns:xlink=\"http://www.w3.org/1999/xlink\" width=\"100.0\" height=\"100.0\" viewBox=\"1.2000000000000002 3.2 2.0 2.0\" preserveAspectRatio=\"xMinYMin meet\"><g transform=\"matrix(1,0,0,-1,0,8.4)\"><circle cx=\"2.2\" cy=\"4.2\" r=\"0.06\" stroke=\"#555555\" stroke-width=\"0.02\" fill=\"#66cc99\" opacity=\"0.6\" /></g></svg>"
      ],
      "text/plain": [
       "<shapely.geometry.point.Point at 0x7f83ea4c4220>"
      ]
     },
     "execution_count": 3,
     "metadata": {},
     "output_type": "execute_result"
    }
   ],
   "source": [
    "point1"
   ]
  },
  {
   "cell_type": "code",
   "execution_count": 4,
   "id": "flush-proof",
   "metadata": {},
   "outputs": [
    {
     "data": {
      "text/plain": [
       "shapely.geometry.point.Point"
      ]
     },
     "execution_count": 4,
     "metadata": {},
     "output_type": "execute_result"
    }
   ],
   "source": [
    "type(point1)"
   ]
  },
  {
   "cell_type": "code",
   "execution_count": 5,
   "id": "fatty-garden",
   "metadata": {},
   "outputs": [
    {
     "data": {
      "text/plain": [
       "'Point'"
      ]
     },
     "execution_count": 5,
     "metadata": {},
     "output_type": "execute_result"
    }
   ],
   "source": [
    "point1.geom_type"
   ]
  },
  {
   "cell_type": "markdown",
   "id": "present-cocktail",
   "metadata": {},
   "source": [
    "getting coordinate of points"
   ]
  },
  {
   "cell_type": "code",
   "execution_count": 6,
   "id": "meaningful-metadata",
   "metadata": {},
   "outputs": [
    {
     "data": {
      "text/plain": [
       "(array('d', [2.2]), array('d', [4.2]))"
      ]
     },
     "execution_count": 6,
     "metadata": {},
     "output_type": "execute_result"
    }
   ],
   "source": [
    "point1.coords.xy"
   ]
  },
  {
   "cell_type": "code",
   "execution_count": 7,
   "id": "rental-hebrew",
   "metadata": {},
   "outputs": [
    {
     "data": {
      "text/plain": [
       "2.2"
      ]
     },
     "execution_count": 7,
     "metadata": {},
     "output_type": "execute_result"
    }
   ],
   "source": [
    "point1.x"
   ]
  },
  {
   "cell_type": "code",
   "execution_count": 8,
   "id": "funky-wheel",
   "metadata": {},
   "outputs": [
    {
     "data": {
      "text/plain": [
       "4.2"
      ]
     },
     "execution_count": 8,
     "metadata": {},
     "output_type": "execute_result"
    }
   ],
   "source": [
    "point1.y"
   ]
  },
  {
   "cell_type": "markdown",
   "id": "amber-gardening",
   "metadata": {},
   "source": [
    "calculating the distance between the points"
   ]
  },
  {
   "cell_type": "code",
   "execution_count": 9,
   "id": "taken-labor",
   "metadata": {},
   "outputs": [
    {
     "data": {
      "text/plain": [
       "29.723559679150142"
      ]
     },
     "execution_count": 9,
     "metadata": {},
     "output_type": "execute_result"
    }
   ],
   "source": [
    "point1.distance(point2)"
   ]
  },
  {
   "cell_type": "markdown",
   "id": "received-hybrid",
   "metadata": {},
   "source": [
    "calculating the distance manually"
   ]
  },
  {
   "cell_type": "code",
   "execution_count": 10,
   "id": "organic-victor",
   "metadata": {},
   "outputs": [
    {
     "data": {
      "text/plain": [
       "29.723559679150142"
      ]
     },
     "execution_count": 10,
     "metadata": {},
     "output_type": "execute_result"
    }
   ],
   "source": [
    "((point1.x - point2.x) ** 2 + (point1.y - point2.y) ** 2) ** 0.5"
   ]
  },
  {
   "cell_type": "markdown",
   "id": "attached-rating",
   "metadata": {},
   "source": [
    "# LineStrings"
   ]
  },
  {
   "cell_type": "code",
   "execution_count": 11,
   "id": "palestinian-czech",
   "metadata": {},
   "outputs": [],
   "source": [
    "line1 = LineString([point1, point2, point3])"
   ]
  },
  {
   "cell_type": "code",
   "execution_count": 12,
   "id": "judicial-valve",
   "metadata": {},
   "outputs": [],
   "source": [
    "line2 = LineString([(5.2, -3.9), (10.2, 8.2)])"
   ]
  },
  {
   "cell_type": "code",
   "execution_count": 13,
   "id": "wanted-discovery",
   "metadata": {},
   "outputs": [
    {
     "data": {
      "image/svg+xml": [
       "<svg xmlns=\"http://www.w3.org/2000/svg\" xmlns:xlink=\"http://www.w3.org/1999/xlink\" width=\"100.0\" height=\"100.0\" viewBox=\"1.028 -26.272000000000002 9.404 31.644000000000002\" preserveAspectRatio=\"xMinYMin meet\"><g transform=\"matrix(1,0,0,-1,0,-20.900000000000002)\"><polyline fill=\"none\" stroke=\"#66cc99\" stroke-width=\"0.63288\" points=\"2.2,4.2 7.2,-25.1 9.26,-2.456\" opacity=\"0.8\" /></g></svg>"
      ],
      "text/plain": [
       "<shapely.geometry.linestring.LineString at 0x7f83e87774c0>"
      ]
     },
     "execution_count": 13,
     "metadata": {},
     "output_type": "execute_result"
    }
   ],
   "source": [
    "line1"
   ]
  },
  {
   "cell_type": "code",
   "execution_count": 14,
   "id": "exclusive-collar",
   "metadata": {},
   "outputs": [
    {
     "data": {
      "image/svg+xml": [
       "<svg xmlns=\"http://www.w3.org/2000/svg\" xmlns:xlink=\"http://www.w3.org/1999/xlink\" width=\"100.0\" height=\"100.0\" viewBox=\"4.716 -4.384 5.967999999999999 13.068\" preserveAspectRatio=\"xMinYMin meet\"><g transform=\"matrix(1,0,0,-1,0,4.299999999999999)\"><polyline fill=\"none\" stroke=\"#66cc99\" stroke-width=\"0.26136\" points=\"5.2,-3.9 10.2,8.2\" opacity=\"0.8\" /></g></svg>"
      ],
      "text/plain": [
       "<shapely.geometry.linestring.LineString at 0x7f83e8777880>"
      ]
     },
     "execution_count": 14,
     "metadata": {},
     "output_type": "execute_result"
    }
   ],
   "source": [
    "line2"
   ]
  },
  {
   "cell_type": "code",
   "execution_count": 15,
   "id": "casual-french",
   "metadata": {},
   "outputs": [
    {
     "name": "stdout",
     "output_type": "stream",
     "text": [
      "LINESTRING (2.2 4.2, 7.2 -25.1, 9.26 -2.456)\n"
     ]
    }
   ],
   "source": [
    "print(line1)"
   ]
  },
  {
   "cell_type": "code",
   "execution_count": 16,
   "id": "waiting-window",
   "metadata": {},
   "outputs": [
    {
     "data": {
      "text/plain": [
       "'LineString'"
      ]
     },
     "execution_count": 16,
     "metadata": {},
     "output_type": "execute_result"
    }
   ],
   "source": [
    "line1.geom_type"
   ]
  },
  {
   "cell_type": "markdown",
   "id": "convenient-noise",
   "metadata": {},
   "source": [
    "getting coordinates of linestring"
   ]
  },
  {
   "cell_type": "code",
   "execution_count": 17,
   "id": "silver-automation",
   "metadata": {},
   "outputs": [
    {
     "data": {
      "text/plain": [
       "(array('d', [2.2, 7.2, 9.26]), array('d', [4.2, -25.1, -2.456]))"
      ]
     },
     "execution_count": 17,
     "metadata": {},
     "output_type": "execute_result"
    }
   ],
   "source": [
    "line1.xy"
   ]
  },
  {
   "cell_type": "code",
   "execution_count": 18,
   "id": "featured-building",
   "metadata": {},
   "outputs": [
    {
     "data": {
      "text/plain": [
       "array('d', [2.2, 7.2, 9.26])"
      ]
     },
     "execution_count": 18,
     "metadata": {},
     "output_type": "execute_result"
    }
   ],
   "source": [
    "line1.xy[0]"
   ]
  },
  {
   "cell_type": "markdown",
   "id": "anonymous-passage",
   "metadata": {},
   "source": [
    "getting length of line"
   ]
  },
  {
   "cell_type": "code",
   "execution_count": 19,
   "id": "psychological-network",
   "metadata": {},
   "outputs": [
    {
     "data": {
      "text/plain": [
       "52.46106912939557"
      ]
     },
     "execution_count": 19,
     "metadata": {},
     "output_type": "execute_result"
    }
   ],
   "source": [
    "line1.length"
   ]
  },
  {
   "cell_type": "markdown",
   "id": "paperback-liver",
   "metadata": {},
   "source": [
    "let's apply the pythagorean theorem to compute the length ourselves"
   ]
  },
  {
   "cell_type": "code",
   "execution_count": 20,
   "id": "developing-bloom",
   "metadata": {},
   "outputs": [
    {
     "data": {
      "text/plain": [
       "52.46106912939557"
      ]
     },
     "execution_count": 20,
     "metadata": {},
     "output_type": "execute_result"
    }
   ],
   "source": [
    "(((line1.xy[0][0] - line1.xy[0][1]) ** 2 +\n",
    " (line1.xy[1][0] - line1.xy[1][1]) ** 2) ** 0.5 +\n",
    " ((line1.xy[0][1] - line1.xy[0][2]) ** 2 +\n",
    " (line1.xy[1][1] - line1.xy[1][2]) ** 2) ** 0.5)"
   ]
  },
  {
   "cell_type": "markdown",
   "id": "impaired-herald",
   "metadata": {},
   "source": [
    "getting the centroid"
   ]
  },
  {
   "cell_type": "code",
   "execution_count": 21,
   "id": "progressive-legend",
   "metadata": {},
   "outputs": [
    {
     "data": {
      "image/svg+xml": [
       "<svg xmlns=\"http://www.w3.org/2000/svg\" xmlns:xlink=\"http://www.w3.org/1999/xlink\" width=\"100.0\" height=\"100.0\" viewBox=\"5.229961354035622 -12.892411157572392 2.0 2.0\" preserveAspectRatio=\"xMinYMin meet\"><g transform=\"matrix(1,0,0,-1,0,-23.784822315144783)\"><circle cx=\"6.229961354035622\" cy=\"-11.892411157572392\" r=\"0.06\" stroke=\"#555555\" stroke-width=\"0.02\" fill=\"#66cc99\" opacity=\"0.6\" /></g></svg>"
      ],
      "text/plain": [
       "<shapely.geometry.point.Point at 0x7f83e8789a90>"
      ]
     },
     "execution_count": 21,
     "metadata": {},
     "output_type": "execute_result"
    }
   ],
   "source": [
    "line1.centroid"
   ]
  },
  {
   "cell_type": "markdown",
   "id": "fundamental-commitment",
   "metadata": {},
   "source": [
    "we see this is a point. Extract its coordinates:"
   ]
  },
  {
   "cell_type": "code",
   "execution_count": 22,
   "id": "occupational-brunei",
   "metadata": {},
   "outputs": [
    {
     "data": {
      "text/plain": [
       "(array('d', [6.229961354035622]), array('d', [-11.892411157572392]))"
      ]
     },
     "execution_count": 22,
     "metadata": {},
     "output_type": "execute_result"
    }
   ],
   "source": [
    "line1.centroid.xy"
   ]
  },
  {
   "cell_type": "markdown",
   "id": "allied-notebook",
   "metadata": {},
   "source": [
    "# Polygons"
   ]
  },
  {
   "cell_type": "code",
   "execution_count": 23,
   "id": "pressing-pocket",
   "metadata": {},
   "outputs": [],
   "source": [
    "poly = Polygon([(p.x, p.y) for p in [point1, point2, point3]])"
   ]
  },
  {
   "cell_type": "code",
   "execution_count": 24,
   "id": "exclusive-affair",
   "metadata": {},
   "outputs": [
    {
     "data": {
      "image/svg+xml": [
       "<svg xmlns=\"http://www.w3.org/2000/svg\" xmlns:xlink=\"http://www.w3.org/1999/xlink\" width=\"100.0\" height=\"100.0\" viewBox=\"1.028 -26.272000000000002 9.404 31.644000000000002\" preserveAspectRatio=\"xMinYMin meet\"><g transform=\"matrix(1,0,0,-1,0,-20.900000000000002)\"><path fill-rule=\"evenodd\" fill=\"#66cc99\" stroke=\"#555555\" stroke-width=\"0.63288\" opacity=\"0.6\" d=\"M 2.2,4.2 L 7.2,-25.1 L 9.26,-2.456 L 2.2,4.2 z\" /></g></svg>"
      ],
      "text/plain": [
       "<shapely.geometry.polygon.Polygon at 0x7f83e877cfd0>"
      ]
     },
     "execution_count": 24,
     "metadata": {},
     "output_type": "execute_result"
    }
   ],
   "source": [
    "poly"
   ]
  },
  {
   "cell_type": "code",
   "execution_count": 25,
   "id": "minimal-forge",
   "metadata": {},
   "outputs": [
    {
     "name": "stdout",
     "output_type": "stream",
     "text": [
      "POLYGON ((2.2 4.2, 7.2 -25.1, 9.26 -2.456, 2.2 4.2))\n"
     ]
    }
   ],
   "source": [
    "print(poly)"
   ]
  },
  {
   "cell_type": "markdown",
   "id": "regional-hepatitis",
   "metadata": {},
   "source": [
    "Note the double parentheses. This is because polygons can have holes"
   ]
  },
  {
   "cell_type": "code",
   "execution_count": 26,
   "id": "sunset-branch",
   "metadata": {},
   "outputs": [
    {
     "data": {
      "text/plain": [
       "'Polygon'"
      ]
     },
     "execution_count": 26,
     "metadata": {},
     "output_type": "execute_result"
    }
   ],
   "source": [
    "poly.geom_type"
   ]
  },
  {
   "cell_type": "markdown",
   "id": "legal-clearance",
   "metadata": {},
   "source": [
    "Making a polygon with a hole"
   ]
  },
  {
   "cell_type": "code",
   "execution_count": 27,
   "id": "internal-redhead",
   "metadata": {},
   "outputs": [],
   "source": [
    "exterior = [(-180, 90), (-180, -90), (180, -90), (180, 90)]\n",
    "hole = [(x*0.8, y*0.8) for x, y in exterior]\n",
    "exterior_poly = Polygon(exterior)"
   ]
  },
  {
   "cell_type": "code",
   "execution_count": 28,
   "id": "hydraulic-ethnic",
   "metadata": {},
   "outputs": [],
   "source": [
    "poly_with_hole = Polygon(shell=exterior, holes=[hole])"
   ]
  },
  {
   "cell_type": "markdown",
   "id": "arranged-recovery",
   "metadata": {},
   "source": [
    "note we are wrapping `hole` in a `list`, since `holes` expects a `list` argument"
   ]
  },
  {
   "cell_type": "code",
   "execution_count": 29,
   "id": "general-junior",
   "metadata": {},
   "outputs": [
    {
     "data": {
      "image/svg+xml": [
       "<svg xmlns=\"http://www.w3.org/2000/svg\" xmlns:xlink=\"http://www.w3.org/1999/xlink\" width=\"300\" height=\"208.8\" viewBox=\"-194.4 -104.4 388.8 208.8\" preserveAspectRatio=\"xMinYMin meet\"><g transform=\"matrix(1,0,0,-1,0,0.0)\"><path fill-rule=\"evenodd\" fill=\"#66cc99\" stroke=\"#555555\" stroke-width=\"2.592\" opacity=\"0.6\" d=\"M -180.0,90.0 L -180.0,-90.0 L 180.0,-90.0 L 180.0,90.0 L -180.0,90.0 z M -144.0,72.0 L -144.0,-72.0 L 144.0,-72.0 L 144.0,72.0 L -144.0,72.0 z\" /></g></svg>"
      ],
      "text/plain": [
       "<shapely.geometry.polygon.Polygon at 0x7f83e877c610>"
      ]
     },
     "execution_count": 29,
     "metadata": {},
     "output_type": "execute_result"
    }
   ],
   "source": [
    "poly_with_hole"
   ]
  },
  {
   "cell_type": "code",
   "execution_count": 30,
   "id": "second-country",
   "metadata": {},
   "outputs": [
    {
     "name": "stdout",
     "output_type": "stream",
     "text": [
      "POLYGON ((-180 90, -180 -90, 180 -90, 180 90, -180 90), (-144 72, -144 -72, 144 -72, 144 72, -144 72))\n"
     ]
    }
   ],
   "source": [
    "print(poly_with_hole)"
   ]
  },
  {
   "cell_type": "code",
   "execution_count": 31,
   "id": "realistic-anime",
   "metadata": {},
   "outputs": [
    {
     "data": {
      "image/svg+xml": [
       "<svg xmlns=\"http://www.w3.org/2000/svg\" xmlns:xlink=\"http://www.w3.org/1999/xlink\" width=\"300\" height=\"208.8\" viewBox=\"-194.4 -104.4 388.8 208.8\" preserveAspectRatio=\"xMinYMin meet\"><g transform=\"matrix(1,0,0,-1,0,0.0)\"><path fill-rule=\"evenodd\" fill=\"#66cc99\" stroke=\"#555555\" stroke-width=\"2.592\" opacity=\"0.6\" d=\"M -180.0,90.0 L -180.0,-90.0 L 180.0,-90.0 L 180.0,90.0 L -180.0,90.0 z\" /></g></svg>"
      ],
      "text/plain": [
       "<shapely.geometry.polygon.Polygon at 0x7f83e877c5b0>"
      ]
     },
     "execution_count": 31,
     "metadata": {},
     "output_type": "execute_result"
    }
   ],
   "source": [
    "exterior_poly"
   ]
  },
  {
   "cell_type": "markdown",
   "id": "liquid-aquarium",
   "metadata": {},
   "source": [
    "getting the centroid of a polygon"
   ]
  },
  {
   "cell_type": "code",
   "execution_count": 32,
   "id": "wrong-blogger",
   "metadata": {},
   "outputs": [
    {
     "data": {
      "image/svg+xml": [
       "<svg xmlns=\"http://www.w3.org/2000/svg\" xmlns:xlink=\"http://www.w3.org/1999/xlink\" width=\"100.0\" height=\"100.0\" viewBox=\"-1.0 -1.0 2.0 2.0\" preserveAspectRatio=\"xMinYMin meet\"><g transform=\"matrix(1,0,0,-1,0,0.0)\"><circle cx=\"-0.0\" cy=\"-0.0\" r=\"0.06\" stroke=\"#555555\" stroke-width=\"0.02\" fill=\"#66cc99\" opacity=\"0.6\" /></g></svg>"
      ],
      "text/plain": [
       "<shapely.geometry.point.Point at 0x7f83ea4c4040>"
      ]
     },
     "execution_count": 32,
     "metadata": {},
     "output_type": "execute_result"
    }
   ],
   "source": [
    "exterior_poly.centroid"
   ]
  },
  {
   "cell_type": "code",
   "execution_count": 33,
   "id": "activated-africa",
   "metadata": {},
   "outputs": [
    {
     "data": {
      "text/plain": [
       "(array('d', [-0.0]), array('d', [-0.0]))"
      ]
     },
     "execution_count": 33,
     "metadata": {},
     "output_type": "execute_result"
    }
   ],
   "source": [
    "exterior_poly.centroid.xy"
   ]
  },
  {
   "cell_type": "markdown",
   "id": "incredible-offense",
   "metadata": {},
   "source": [
    "getting the area"
   ]
  },
  {
   "cell_type": "code",
   "execution_count": 34,
   "id": "italian-dimension",
   "metadata": {},
   "outputs": [
    {
     "data": {
      "text/plain": [
       "64800.0"
      ]
     },
     "execution_count": 34,
     "metadata": {},
     "output_type": "execute_result"
    }
   ],
   "source": [
    "exterior_poly.area"
   ]
  },
  {
   "cell_type": "markdown",
   "id": "diagnostic-allowance",
   "metadata": {},
   "source": [
    "getting a bounding box"
   ]
  },
  {
   "cell_type": "code",
   "execution_count": 35,
   "id": "adult-yemen",
   "metadata": {},
   "outputs": [
    {
     "data": {
      "image/svg+xml": [
       "<svg xmlns=\"http://www.w3.org/2000/svg\" xmlns:xlink=\"http://www.w3.org/1999/xlink\" width=\"100.0\" height=\"100.0\" viewBox=\"1.028 -26.272000000000002 9.404 31.644000000000002\" preserveAspectRatio=\"xMinYMin meet\"><g transform=\"matrix(1,0,0,-1,0,-20.900000000000002)\"><path fill-rule=\"evenodd\" fill=\"#66cc99\" stroke=\"#555555\" stroke-width=\"0.63288\" opacity=\"0.6\" d=\"M 2.2,4.2 L 7.2,-25.1 L 9.26,-2.456 L 2.2,4.2 z\" /></g></svg>"
      ],
      "text/plain": [
       "<shapely.geometry.polygon.Polygon at 0x7f83e877cfd0>"
      ]
     },
     "execution_count": 35,
     "metadata": {},
     "output_type": "execute_result"
    }
   ],
   "source": [
    "poly"
   ]
  },
  {
   "cell_type": "code",
   "execution_count": 36,
   "id": "coordinated-bench",
   "metadata": {},
   "outputs": [
    {
     "data": {
      "text/plain": [
       "(2.2, -25.1, 9.26, 4.2)"
      ]
     },
     "execution_count": 36,
     "metadata": {},
     "output_type": "execute_result"
    }
   ],
   "source": [
    "poly.bounds"
   ]
  },
  {
   "cell_type": "code",
   "execution_count": 37,
   "id": "liquid-prophet",
   "metadata": {},
   "outputs": [
    {
     "data": {
      "image/svg+xml": [
       "<svg xmlns=\"http://www.w3.org/2000/svg\" xmlns:xlink=\"http://www.w3.org/1999/xlink\" width=\"100.0\" height=\"100.0\" viewBox=\"1.028 -26.272000000000002 9.404 31.644000000000002\" preserveAspectRatio=\"xMinYMin meet\"><g transform=\"matrix(1,0,0,-1,0,-20.900000000000002)\"><path fill-rule=\"evenodd\" fill=\"#66cc99\" stroke=\"#555555\" stroke-width=\"0.63288\" opacity=\"0.6\" d=\"M 2.2,-25.1 L 9.26,-25.1 L 9.26,4.2 L 2.2,4.2 L 2.2,-25.1 z\" /></g></svg>"
      ],
      "text/plain": [
       "<shapely.geometry.polygon.Polygon at 0x7f83ea4c4490>"
      ]
     },
     "execution_count": 37,
     "metadata": {},
     "output_type": "execute_result"
    }
   ],
   "source": [
    "poly.envelope"
   ]
  },
  {
   "cell_type": "code",
   "execution_count": 38,
   "id": "absolute-carroll",
   "metadata": {},
   "outputs": [
    {
     "data": {
      "text/plain": [
       "(array('d', [2.2, 9.26, 9.26, 2.2, 2.2]),\n",
       " array('d', [-25.1, -25.1, 4.2, 4.2, -25.1]))"
      ]
     },
     "execution_count": 38,
     "metadata": {},
     "output_type": "execute_result"
    }
   ],
   "source": [
    "poly.envelope.exterior.coords.xy"
   ]
  },
  {
   "cell_type": "markdown",
   "id": "approximate-geneva",
   "metadata": {},
   "source": [
    "get the exterior ring"
   ]
  },
  {
   "cell_type": "code",
   "execution_count": 39,
   "id": "catholic-hobby",
   "metadata": {},
   "outputs": [
    {
     "data": {
      "image/svg+xml": [
       "<svg xmlns=\"http://www.w3.org/2000/svg\" xmlns:xlink=\"http://www.w3.org/1999/xlink\" width=\"100.0\" height=\"100.0\" viewBox=\"1.028 -26.272000000000002 9.404 31.644000000000002\" preserveAspectRatio=\"xMinYMin meet\"><g transform=\"matrix(1,0,0,-1,0,-20.900000000000002)\"><polyline fill=\"none\" stroke=\"#66cc99\" stroke-width=\"0.63288\" points=\"2.2,4.2 7.2,-25.1 9.26,-2.456 2.2,4.2\" opacity=\"0.8\" /></g></svg>"
      ],
      "text/plain": [
       "<shapely.geometry.polygon.LinearRing at 0x7f83e87870a0>"
      ]
     },
     "execution_count": 39,
     "metadata": {},
     "output_type": "execute_result"
    }
   ],
   "source": [
    "poly.exterior"
   ]
  },
  {
   "cell_type": "code",
   "execution_count": 40,
   "id": "religious-child",
   "metadata": {},
   "outputs": [
    {
     "data": {
      "text/plain": [
       "'LinearRing'"
      ]
     },
     "execution_count": 40,
     "metadata": {},
     "output_type": "execute_result"
    }
   ],
   "source": [
    "poly.envelope.exterior.geom_type"
   ]
  },
  {
   "cell_type": "code",
   "execution_count": 41,
   "id": "overall-indianapolis",
   "metadata": {},
   "outputs": [
    {
     "data": {
      "text/plain": [
       "72.72"
      ]
     },
     "execution_count": 41,
     "metadata": {},
     "output_type": "execute_result"
    }
   ],
   "source": [
    "poly.envelope.exterior.length"
   ]
  },
  {
   "cell_type": "markdown",
   "id": "outdoor-wound",
   "metadata": {},
   "source": [
    "this is again in decimal degrees"
   ]
  },
  {
   "cell_type": "markdown",
   "id": "tired-period",
   "metadata": {},
   "source": [
    "# Geometry collections"
   ]
  },
  {
   "cell_type": "code",
   "execution_count": 42,
   "id": "existing-sensitivity",
   "metadata": {},
   "outputs": [],
   "source": [
    "from shapely.geometry import MultiPoint, MultiLineString, MultiPolygon, box"
   ]
  },
  {
   "cell_type": "markdown",
   "id": "human-recipient",
   "metadata": {},
   "source": [
    "## MultiPoints"
   ]
  },
  {
   "cell_type": "markdown",
   "id": "parallel-chart",
   "metadata": {},
   "source": [
    "The same thing can be achieved as usual passing geometry objects or the coordinates defining them"
   ]
  },
  {
   "cell_type": "code",
   "execution_count": 43,
   "id": "charitable-thirty",
   "metadata": {},
   "outputs": [],
   "source": [
    "multi_point1 = MultiPoint([point1, point2, point3])\n",
    "multi_point2 = MultiPoint([(2.2, 4.2), (7.2, -25.1), (9.26, -2.456)])"
   ]
  },
  {
   "cell_type": "code",
   "execution_count": 44,
   "id": "local-fitness",
   "metadata": {},
   "outputs": [
    {
     "data": {
      "image/svg+xml": [
       "<svg xmlns=\"http://www.w3.org/2000/svg\" xmlns:xlink=\"http://www.w3.org/1999/xlink\" width=\"100.0\" height=\"100.0\" viewBox=\"1.028 -26.272000000000002 9.404 31.644000000000002\" preserveAspectRatio=\"xMinYMin meet\"><g transform=\"matrix(1,0,0,-1,0,-20.900000000000002)\"><g><circle cx=\"2.2\" cy=\"4.2\" r=\"0.9493199999999999\" stroke=\"#555555\" stroke-width=\"0.31644\" fill=\"#66cc99\" opacity=\"0.6\" /><circle cx=\"7.2\" cy=\"-25.1\" r=\"0.9493199999999999\" stroke=\"#555555\" stroke-width=\"0.31644\" fill=\"#66cc99\" opacity=\"0.6\" /><circle cx=\"9.26\" cy=\"-2.456\" r=\"0.9493199999999999\" stroke=\"#555555\" stroke-width=\"0.31644\" fill=\"#66cc99\" opacity=\"0.6\" /></g></g></svg>"
      ],
      "text/plain": [
       "<shapely.geometry.multipoint.MultiPoint at 0x7f83e8787820>"
      ]
     },
     "execution_count": 44,
     "metadata": {},
     "output_type": "execute_result"
    }
   ],
   "source": [
    "multi_point1"
   ]
  },
  {
   "cell_type": "code",
   "execution_count": 45,
   "id": "tough-theta",
   "metadata": {},
   "outputs": [
    {
     "data": {
      "image/svg+xml": [
       "<svg xmlns=\"http://www.w3.org/2000/svg\" xmlns:xlink=\"http://www.w3.org/1999/xlink\" width=\"100.0\" height=\"100.0\" viewBox=\"1.028 -26.272000000000002 9.404 31.644000000000002\" preserveAspectRatio=\"xMinYMin meet\"><g transform=\"matrix(1,0,0,-1,0,-20.900000000000002)\"><g><circle cx=\"2.2\" cy=\"4.2\" r=\"0.9493199999999999\" stroke=\"#555555\" stroke-width=\"0.31644\" fill=\"#66cc99\" opacity=\"0.6\" /><circle cx=\"7.2\" cy=\"-25.1\" r=\"0.9493199999999999\" stroke=\"#555555\" stroke-width=\"0.31644\" fill=\"#66cc99\" opacity=\"0.6\" /><circle cx=\"9.26\" cy=\"-2.456\" r=\"0.9493199999999999\" stroke=\"#555555\" stroke-width=\"0.31644\" fill=\"#66cc99\" opacity=\"0.6\" /></g></g></svg>"
      ],
      "text/plain": [
       "<shapely.geometry.multipoint.MultiPoint at 0x7f83e8787fd0>"
      ]
     },
     "execution_count": 45,
     "metadata": {},
     "output_type": "execute_result"
    }
   ],
   "source": [
    "multi_point2"
   ]
  },
  {
   "cell_type": "code",
   "execution_count": 46,
   "id": "catholic-flooring",
   "metadata": {},
   "outputs": [
    {
     "name": "stdout",
     "output_type": "stream",
     "text": [
      "MULTIPOINT (2.2 4.2, 7.2 -25.1, 9.26 -2.456)\n"
     ]
    }
   ],
   "source": [
    "print(multi_point1)"
   ]
  },
  {
   "cell_type": "markdown",
   "id": "hindu-planet",
   "metadata": {},
   "source": [
    "## MultiLines"
   ]
  },
  {
   "cell_type": "code",
   "execution_count": 47,
   "id": "electronic-affair",
   "metadata": {},
   "outputs": [],
   "source": [
    "line1 = LineString([point1, point2])\n",
    "line2 = LineString([point2, point3])\n",
    "multi_line = MultiLineString([line1, line2])"
   ]
  },
  {
   "cell_type": "code",
   "execution_count": 48,
   "id": "dependent-praise",
   "metadata": {},
   "outputs": [
    {
     "data": {
      "image/svg+xml": [
       "<svg xmlns=\"http://www.w3.org/2000/svg\" xmlns:xlink=\"http://www.w3.org/1999/xlink\" width=\"100.0\" height=\"100.0\" viewBox=\"1.028 -26.272000000000002 9.404 31.644000000000002\" preserveAspectRatio=\"xMinYMin meet\"><g transform=\"matrix(1,0,0,-1,0,-20.900000000000002)\"><g><polyline fill=\"none\" stroke=\"#66cc99\" stroke-width=\"0.63288\" points=\"2.2,4.2 7.2,-25.1\" opacity=\"0.8\" /><polyline fill=\"none\" stroke=\"#66cc99\" stroke-width=\"0.63288\" points=\"7.2,-25.1 9.26,-2.456\" opacity=\"0.8\" /></g></g></svg>"
      ],
      "text/plain": [
       "<shapely.geometry.multilinestring.MultiLineString at 0x7f83e8789280>"
      ]
     },
     "execution_count": 48,
     "metadata": {},
     "output_type": "execute_result"
    }
   ],
   "source": [
    "multi_line"
   ]
  },
  {
   "cell_type": "code",
   "execution_count": 49,
   "id": "armed-newton",
   "metadata": {},
   "outputs": [
    {
     "data": {
      "text/plain": [
       "'LineString'"
      ]
     },
     "execution_count": 49,
     "metadata": {},
     "output_type": "execute_result"
    }
   ],
   "source": [
    "line1.geom_type"
   ]
  },
  {
   "cell_type": "code",
   "execution_count": 50,
   "id": "protected-event",
   "metadata": {},
   "outputs": [
    {
     "data": {
      "text/plain": [
       "'MultiLineString'"
      ]
     },
     "execution_count": 50,
     "metadata": {},
     "output_type": "execute_result"
    }
   ],
   "source": [
    "multi_line.geom_type"
   ]
  },
  {
   "cell_type": "code",
   "execution_count": 51,
   "id": "official-traveler",
   "metadata": {},
   "outputs": [
    {
     "data": {
      "image/svg+xml": [
       "<svg xmlns=\"http://www.w3.org/2000/svg\" xmlns:xlink=\"http://www.w3.org/1999/xlink\" width=\"100.0\" height=\"100.0\" viewBox=\"1.028 -26.272000000000002 7.343999999999999 31.644000000000002\" preserveAspectRatio=\"xMinYMin meet\"><g transform=\"matrix(1,0,0,-1,0,-20.900000000000002)\"><polyline fill=\"none\" stroke=\"#66cc99\" stroke-width=\"0.63288\" points=\"2.2,4.2 7.2,-25.1\" opacity=\"0.8\" /></g></svg>"
      ],
      "text/plain": [
       "<shapely.geometry.linestring.LineString at 0x7f83e8777910>"
      ]
     },
     "execution_count": 51,
     "metadata": {},
     "output_type": "execute_result"
    }
   ],
   "source": [
    "multi_line[0]"
   ]
  },
  {
   "cell_type": "code",
   "execution_count": 52,
   "id": "endless-district",
   "metadata": {},
   "outputs": [
    {
     "data": {
      "image/svg+xml": [
       "<svg xmlns=\"http://www.w3.org/2000/svg\" xmlns:xlink=\"http://www.w3.org/1999/xlink\" width=\"100.0\" height=\"100.0\" viewBox=\"6.29424 -26.005760000000002 3.8715200000000003 24.455520000000003\" preserveAspectRatio=\"xMinYMin meet\"><g transform=\"matrix(1,0,0,-1,0,-27.556)\"><polyline fill=\"none\" stroke=\"#66cc99\" stroke-width=\"0.48911040000000006\" points=\"7.2,-25.1 9.26,-2.456\" opacity=\"0.8\" /></g></svg>"
      ],
      "text/plain": [
       "<shapely.geometry.linestring.LineString at 0x7f83e8777a60>"
      ]
     },
     "execution_count": 52,
     "metadata": {},
     "output_type": "execute_result"
    }
   ],
   "source": [
    "multi_line[1]"
   ]
  },
  {
   "cell_type": "code",
   "execution_count": 53,
   "id": "abroad-ready",
   "metadata": {},
   "outputs": [
    {
     "data": {
      "text/plain": [
       "'LineString'"
      ]
     },
     "execution_count": 53,
     "metadata": {},
     "output_type": "execute_result"
    }
   ],
   "source": [
    "multi_line[0].geom_type"
   ]
  },
  {
   "cell_type": "code",
   "execution_count": 54,
   "id": "behavioral-major",
   "metadata": {},
   "outputs": [
    {
     "name": "stdout",
     "output_type": "stream",
     "text": [
      "MULTILINESTRING ((2.2 4.2, 7.2 -25.1), (7.2 -25.1, 9.26 -2.456))\n"
     ]
    }
   ],
   "source": [
    "print(multi_line)"
   ]
  },
  {
   "cell_type": "markdown",
   "id": "biological-departure",
   "metadata": {},
   "source": [
    "## MultiPolys"
   ]
  },
  {
   "cell_type": "markdown",
   "id": "going-audit",
   "metadata": {},
   "source": [
    "For polygons, create two hemispheres with a hole in the western one"
   ]
  },
  {
   "cell_type": "code",
   "execution_count": 55,
   "id": "acceptable-repair",
   "metadata": {},
   "outputs": [],
   "source": [
    "west_exterior = [(-180, 90), (-180, -90), (0, -90), (0, 90)]\n",
    "west_hole = [[(-170, 80), (-170, -80), (-10, -80), (-10, 80)]]\n",
    "west_poly = Polygon(shell=west_exterior, holes=west_hole)"
   ]
  },
  {
   "cell_type": "code",
   "execution_count": 56,
   "id": "exact-function",
   "metadata": {},
   "outputs": [
    {
     "data": {
      "image/svg+xml": [
       "<svg xmlns=\"http://www.w3.org/2000/svg\" xmlns:xlink=\"http://www.w3.org/1999/xlink\" width=\"194.39999999999998\" height=\"194.4\" viewBox=\"-187.2 -97.2 194.39999999999998 194.4\" preserveAspectRatio=\"xMinYMin meet\"><g transform=\"matrix(1,0,0,-1,0,0.0)\"><path fill-rule=\"evenodd\" fill=\"#66cc99\" stroke=\"#555555\" stroke-width=\"2.0\" opacity=\"0.6\" d=\"M -180.0,90.0 L -180.0,-90.0 L 0.0,-90.0 L 0.0,90.0 L -180.0,90.0 z M -170.0,80.0 L -170.0,-80.0 L -10.0,-80.0 L -10.0,80.0 L -170.0,80.0 z\" /></g></svg>"
      ],
      "text/plain": [
       "<shapely.geometry.polygon.Polygon at 0x7f83e872d250>"
      ]
     },
     "execution_count": 56,
     "metadata": {},
     "output_type": "execute_result"
    }
   ],
   "source": [
    "west_poly"
   ]
  },
  {
   "cell_type": "markdown",
   "id": "round-briefs",
   "metadata": {},
   "source": [
    "For the eastern part, create a bounding box"
   ]
  },
  {
   "cell_type": "code",
   "execution_count": 57,
   "id": "romance-default",
   "metadata": {},
   "outputs": [],
   "source": [
    "min_x, min_y, max_x, max_y = 0, -90, 180, 90\n",
    "east_poly_box = box(minx=min_x, miny=min_y, maxx=max_x, maxy=max_y)"
   ]
  },
  {
   "cell_type": "code",
   "execution_count": 58,
   "id": "dominican-palace",
   "metadata": {},
   "outputs": [
    {
     "data": {
      "image/svg+xml": [
       "<svg xmlns=\"http://www.w3.org/2000/svg\" xmlns:xlink=\"http://www.w3.org/1999/xlink\" width=\"194.39999999999998\" height=\"194.4\" viewBox=\"-7.2 -97.2 194.39999999999998 194.4\" preserveAspectRatio=\"xMinYMin meet\"><g transform=\"matrix(1,0,0,-1,0,0.0)\"><path fill-rule=\"evenodd\" fill=\"#66cc99\" stroke=\"#555555\" stroke-width=\"2.0\" opacity=\"0.6\" d=\"M 180.0,-90.0 L 180.0,90.0 L 0.0,90.0 L 0.0,-90.0 L 180.0,-90.0 z\" /></g></svg>"
      ],
      "text/plain": [
       "<shapely.geometry.polygon.Polygon at 0x7f83e872d310>"
      ]
     },
     "execution_count": 58,
     "metadata": {},
     "output_type": "execute_result"
    }
   ],
   "source": [
    "east_poly_box"
   ]
  },
  {
   "cell_type": "code",
   "execution_count": 59,
   "id": "opposed-destination",
   "metadata": {},
   "outputs": [],
   "source": [
    "multi_poly = MultiPolygon([west_poly, east_poly_box])"
   ]
  },
  {
   "cell_type": "code",
   "execution_count": 60,
   "id": "behavioral-pocket",
   "metadata": {},
   "outputs": [
    {
     "data": {
      "image/svg+xml": [
       "<svg xmlns=\"http://www.w3.org/2000/svg\" xmlns:xlink=\"http://www.w3.org/1999/xlink\" width=\"300\" height=\"208.8\" viewBox=\"-194.4 -104.4 388.8 208.8\" preserveAspectRatio=\"xMinYMin meet\"><g transform=\"matrix(1,0,0,-1,0,0.0)\"><g><path fill-rule=\"evenodd\" fill=\"#ff3333\" stroke=\"#555555\" stroke-width=\"2.592\" opacity=\"0.6\" d=\"M -180.0,90.0 L -180.0,-90.0 L 0.0,-90.0 L 0.0,90.0 L -180.0,90.0 z M -170.0,80.0 L -170.0,-80.0 L -10.0,-80.0 L -10.0,80.0 L -170.0,80.0 z\" /><path fill-rule=\"evenodd\" fill=\"#ff3333\" stroke=\"#555555\" stroke-width=\"2.592\" opacity=\"0.6\" d=\"M 180.0,-90.0 L 180.0,90.0 L 0.0,90.0 L 0.0,-90.0 L 180.0,-90.0 z\" /></g></g></svg>"
      ],
      "text/plain": [
       "<shapely.geometry.multipolygon.MultiPolygon at 0x7f83e872d070>"
      ]
     },
     "execution_count": 60,
     "metadata": {},
     "output_type": "execute_result"
    }
   ],
   "source": [
    "multi_poly"
   ]
  },
  {
   "cell_type": "markdown",
   "id": "aware-pixel",
   "metadata": {},
   "source": [
    "## Attributes and methods for Geometry collections"
   ]
  },
  {
   "cell_type": "markdown",
   "id": "honey-cheese",
   "metadata": {},
   "source": [
    "convex hull"
   ]
  },
  {
   "cell_type": "code",
   "execution_count": 61,
   "id": "graphic-impression",
   "metadata": {},
   "outputs": [
    {
     "data": {
      "image/svg+xml": [
       "<svg xmlns=\"http://www.w3.org/2000/svg\" xmlns:xlink=\"http://www.w3.org/1999/xlink\" width=\"100.0\" height=\"100.0\" viewBox=\"1.028 -26.272000000000002 9.404 31.644000000000002\" preserveAspectRatio=\"xMinYMin meet\"><g transform=\"matrix(1,0,0,-1,0,-20.900000000000002)\"><path fill-rule=\"evenodd\" fill=\"#66cc99\" stroke=\"#555555\" stroke-width=\"0.63288\" opacity=\"0.6\" d=\"M 7.2,-25.1 L 2.2,4.2 L 9.26,-2.456 L 7.2,-25.1 z\" /></g></svg>"
      ],
      "text/plain": [
       "<shapely.geometry.polygon.Polygon at 0x7f83e872d910>"
      ]
     },
     "execution_count": 61,
     "metadata": {},
     "output_type": "execute_result"
    }
   ],
   "source": [
    "multi_point1.convex_hull"
   ]
  },
  {
   "cell_type": "code",
   "execution_count": 62,
   "id": "final-visiting",
   "metadata": {},
   "outputs": [
    {
     "data": {
      "image/svg+xml": [
       "<svg xmlns=\"http://www.w3.org/2000/svg\" xmlns:xlink=\"http://www.w3.org/1999/xlink\" width=\"100.0\" height=\"100.0\" viewBox=\"1.028 -26.272000000000002 9.404 31.644000000000002\" preserveAspectRatio=\"xMinYMin meet\"><g transform=\"matrix(1,0,0,-1,0,-20.900000000000002)\"><path fill-rule=\"evenodd\" fill=\"#66cc99\" stroke=\"#555555\" stroke-width=\"0.63288\" opacity=\"0.6\" d=\"M 7.2,-25.1 L 2.2,4.2 L 9.26,-2.456 L 7.2,-25.1 z\" /></g></svg>"
      ],
      "text/plain": [
       "<shapely.geometry.polygon.Polygon at 0x7f83e872d3a0>"
      ]
     },
     "execution_count": 62,
     "metadata": {},
     "output_type": "execute_result"
    }
   ],
   "source": [
    "multi_line.convex_hull"
   ]
  },
  {
   "cell_type": "markdown",
   "id": "durable-ethics",
   "metadata": {},
   "source": [
    "The collections have a number of elements we can get via `len`"
   ]
  },
  {
   "cell_type": "code",
   "execution_count": 63,
   "id": "fifth-covering",
   "metadata": {},
   "outputs": [
    {
     "data": {
      "text/plain": [
       "3"
      ]
     },
     "execution_count": 63,
     "metadata": {},
     "output_type": "execute_result"
    }
   ],
   "source": [
    "len(multi_point1)"
   ]
  },
  {
   "cell_type": "code",
   "execution_count": 64,
   "id": "agricultural-ottawa",
   "metadata": {},
   "outputs": [
    {
     "data": {
      "text/plain": [
       "2"
      ]
     },
     "execution_count": 64,
     "metadata": {},
     "output_type": "execute_result"
    }
   ],
   "source": [
    "len(multi_line)"
   ]
  },
  {
   "cell_type": "markdown",
   "id": "clear-orange",
   "metadata": {},
   "source": [
    "For the MultiPolygon, we can calculate area as usual"
   ]
  },
  {
   "cell_type": "code",
   "execution_count": 65,
   "id": "characteristic-rachel",
   "metadata": {},
   "outputs": [
    {
     "data": {
      "text/plain": [
       "39200.0"
      ]
     },
     "execution_count": 65,
     "metadata": {},
     "output_type": "execute_result"
    }
   ],
   "source": [
    "multi_poly.area"
   ]
  },
  {
   "cell_type": "markdown",
   "id": "civil-budapest",
   "metadata": {},
   "source": [
    "Recall its weird shape"
   ]
  },
  {
   "cell_type": "code",
   "execution_count": 66,
   "id": "illegal-structure",
   "metadata": {},
   "outputs": [
    {
     "data": {
      "image/svg+xml": [
       "<svg xmlns=\"http://www.w3.org/2000/svg\" xmlns:xlink=\"http://www.w3.org/1999/xlink\" width=\"300\" height=\"208.8\" viewBox=\"-194.4 -104.4 388.8 208.8\" preserveAspectRatio=\"xMinYMin meet\"><g transform=\"matrix(1,0,0,-1,0,0.0)\"><g><path fill-rule=\"evenodd\" fill=\"#ff3333\" stroke=\"#555555\" stroke-width=\"2.592\" opacity=\"0.6\" d=\"M -180.0,90.0 L -180.0,-90.0 L 0.0,-90.0 L 0.0,90.0 L -180.0,90.0 z M -170.0,80.0 L -170.0,-80.0 L -10.0,-80.0 L -10.0,80.0 L -170.0,80.0 z\" /><path fill-rule=\"evenodd\" fill=\"#ff3333\" stroke=\"#555555\" stroke-width=\"2.592\" opacity=\"0.6\" d=\"M 180.0,-90.0 L 180.0,90.0 L 0.0,90.0 L 0.0,-90.0 L 180.0,-90.0 z\" /></g></g></svg>"
      ],
      "text/plain": [
       "<shapely.geometry.multipolygon.MultiPolygon at 0x7f83e872d070>"
      ]
     },
     "execution_count": 66,
     "metadata": {},
     "output_type": "execute_result"
    }
   ],
   "source": [
    "multi_poly"
   ]
  },
  {
   "cell_type": "code",
   "execution_count": 67,
   "id": "altered-flush",
   "metadata": {},
   "outputs": [
    {
     "data": {
      "text/plain": [
       "6800.0"
      ]
     },
     "execution_count": 67,
     "metadata": {},
     "output_type": "execute_result"
    }
   ],
   "source": [
    "multi_poly[0].area"
   ]
  },
  {
   "cell_type": "code",
   "execution_count": 68,
   "id": "accredited-prefix",
   "metadata": {},
   "outputs": [
    {
     "data": {
      "text/plain": [
       "32400.0"
      ]
     },
     "execution_count": 68,
     "metadata": {},
     "output_type": "execute_result"
    }
   ],
   "source": [
    "multi_poly[1].area"
   ]
  },
  {
   "cell_type": "markdown",
   "id": "optimum-holder",
   "metadata": {},
   "source": [
    "Valid MultiPolygons are those whose shapes do not intersect one another. In `multi_polygon` created above, the two hemispheres share the 0-meridian. Hence this will not be a valid polyon"
   ]
  },
  {
   "cell_type": "code",
   "execution_count": 69,
   "id": "infectious-parliament",
   "metadata": {},
   "outputs": [
    {
     "data": {
      "text/plain": [
       "False"
      ]
     },
     "execution_count": 69,
     "metadata": {},
     "output_type": "execute_result"
    }
   ],
   "source": [
    "multi_poly.is_valid"
   ]
  },
  {
   "cell_type": "markdown",
   "id": "earlier-effect",
   "metadata": {},
   "source": [
    "We can slightly modify things to get a valid one"
   ]
  },
  {
   "cell_type": "code",
   "execution_count": 70,
   "id": "afraid-disposal",
   "metadata": {},
   "outputs": [],
   "source": [
    "min_x, min_y, max_x, max_y = 0.0000001, -90, 180, 90\n",
    "east_poly_box = box(minx=min_x, miny=min_y, maxx=max_x, maxy=max_y)"
   ]
  },
  {
   "cell_type": "code",
   "execution_count": 71,
   "id": "tracked-profit",
   "metadata": {},
   "outputs": [],
   "source": [
    "multi_poly = MultiPolygon([west_poly, east_poly_box])"
   ]
  },
  {
   "cell_type": "code",
   "execution_count": 72,
   "id": "sealed-former",
   "metadata": {},
   "outputs": [
    {
     "data": {
      "image/svg+xml": [
       "<svg xmlns=\"http://www.w3.org/2000/svg\" xmlns:xlink=\"http://www.w3.org/1999/xlink\" width=\"300\" height=\"208.8\" viewBox=\"-194.4 -104.4 388.8 208.8\" preserveAspectRatio=\"xMinYMin meet\"><g transform=\"matrix(1,0,0,-1,0,0.0)\"><g><path fill-rule=\"evenodd\" fill=\"#66cc99\" stroke=\"#555555\" stroke-width=\"2.592\" opacity=\"0.6\" d=\"M -180.0,90.0 L -180.0,-90.0 L 0.0,-90.0 L 0.0,90.0 L -180.0,90.0 z M -170.0,80.0 L -170.0,-80.0 L -10.0,-80.0 L -10.0,80.0 L -170.0,80.0 z\" /><path fill-rule=\"evenodd\" fill=\"#66cc99\" stroke=\"#555555\" stroke-width=\"2.592\" opacity=\"0.6\" d=\"M 180.0,-90.0 L 180.0,90.0 L 1e-07,90.0 L 1e-07,-90.0 L 180.0,-90.0 z\" /></g></g></svg>"
      ],
      "text/plain": [
       "<shapely.geometry.multipolygon.MultiPolygon at 0x7f83e873d250>"
      ]
     },
     "execution_count": 72,
     "metadata": {},
     "output_type": "execute_result"
    }
   ],
   "source": [
    "multi_poly"
   ]
  },
  {
   "cell_type": "code",
   "execution_count": 73,
   "id": "ranking-captain",
   "metadata": {},
   "outputs": [
    {
     "data": {
      "text/plain": [
       "True"
      ]
     },
     "execution_count": 73,
     "metadata": {},
     "output_type": "execute_result"
    }
   ],
   "source": [
    "multi_poly.is_valid"
   ]
  },
  {
   "cell_type": "code",
   "execution_count": 74,
   "id": "interim-executive",
   "metadata": {},
   "outputs": [
    {
     "data": {
      "text/plain": [
       "39199.999982"
      ]
     },
     "execution_count": 74,
     "metadata": {},
     "output_type": "execute_result"
    }
   ],
   "source": [
    "multi_poly.area"
   ]
  }
 ],
 "metadata": {
  "kernelspec": {
   "display_name": "Python 3",
   "language": "python",
   "name": "python3"
  },
  "language_info": {
   "codemirror_mode": {
    "name": "ipython",
    "version": 3
   },
   "file_extension": ".py",
   "mimetype": "text/x-python",
   "name": "python",
   "nbconvert_exporter": "python",
   "pygments_lexer": "ipython3",
   "version": "3.8.8"
  }
 },
 "nbformat": 4,
 "nbformat_minor": 5
}
