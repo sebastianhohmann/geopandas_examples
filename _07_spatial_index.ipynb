{
 "cells": [
  {
   "cell_type": "code",
   "execution_count": 1,
   "id": "ongoing-defeat",
   "metadata": {},
   "outputs": [],
   "source": [
    "import geopandas as gpd\n",
    "import matplotlib.pyplot as plt\n",
    "import pandas as pd\n",
    "import time"
   ]
  },
  {
   "cell_type": "code",
   "execution_count": 2,
   "id": "noble-license",
   "metadata": {},
   "outputs": [],
   "source": [
    "world = gpd.read_file('./data/ne_10m_admin_0_countries/ne_10m_admin_0_countries.shp')[['ADMIN', 'geometry']]\n",
    "langa = gpd.read_file('./data/langa/langa.shp')[['NAME_PROP', 'geometry']]"
   ]
  },
  {
   "cell_type": "code",
   "execution_count": 3,
   "id": "taken-median",
   "metadata": {},
   "outputs": [
    {
     "name": "stdout",
     "output_type": "stream",
     "text": [
      "0\n",
      "10\n",
      "20\n",
      "30\n",
      "40\n",
      "50\n",
      "60\n",
      "70\n",
      "80\n",
      "90\n",
      "100\n",
      "110\n",
      "120\n",
      "130\n",
      "140\n",
      "150\n",
      "160\n",
      "170\n",
      "180\n",
      "190\n",
      "200\n",
      "210\n",
      "220\n",
      "230\n",
      "240\n",
      "250\n",
      "184.4961543083191\n"
     ]
    }
   ],
   "source": [
    "start_time = time.time()\n",
    "out = []\n",
    "langa_sindex = langa.sindex\n",
    "for i, admin in enumerate(world.ADMIN):\n",
    "    if i % 10 == 0:\n",
    "        print(i)\n",
    "    ctry = world[world.ADMIN==admin]\n",
    "    bbox = ctry.geometry.bounds.values[0]\n",
    "    cands = langa.loc[list(langa_sindex.intersection(bbox))]\n",
    "    if cands.shape[0] > 0:\n",
    "        out.append(gpd.overlay(cands, ctry, how='intersection')) \n",
    "OUT1 = pd.concat(out, axis=0)\n",
    "print(time.time() - start_time)"
   ]
  },
  {
   "cell_type": "code",
   "execution_count": 4,
   "id": "divided-mention",
   "metadata": {},
   "outputs": [
    {
     "name": "stdout",
     "output_type": "stream",
     "text": [
      "30.12494659423828\n"
     ]
    }
   ],
   "source": [
    "start_time = time.time()\n",
    "OUT2 = gpd.overlay(world, langa, how='intersection')\n",
    "print(time.time() - start_time)"
   ]
  }
 ],
 "metadata": {
  "kernelspec": {
   "display_name": "Python 3",
   "language": "python",
   "name": "python3"
  },
  "language_info": {
   "codemirror_mode": {
    "name": "ipython",
    "version": 3
   },
   "file_extension": ".py",
   "mimetype": "text/x-python",
   "name": "python",
   "nbconvert_exporter": "python",
   "pygments_lexer": "ipython3",
   "version": "3.8.8"
  }
 },
 "nbformat": 4,
 "nbformat_minor": 5
}
