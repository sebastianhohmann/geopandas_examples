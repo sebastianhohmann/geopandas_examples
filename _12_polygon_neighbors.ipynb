{
 "cells": [
  {
   "cell_type": "code",
   "execution_count": 1,
   "id": "vocational-punch",
   "metadata": {},
   "outputs": [],
   "source": [
    "import numpy as np\n",
    "from shapely.geometry import Polygon\n",
    "import pygeos\n",
    "import geopandas as gpd\n",
    "import matplotlib.pyplot as plt\n",
    "import pandas as pd"
   ]
  },
  {
   "cell_type": "code",
   "execution_count": 2,
   "id": "accepting-position",
   "metadata": {},
   "outputs": [],
   "source": [
    "xmin, ymin, xmax, ymax = -180, -90, 180, 90\n",
    "length = 10\n",
    "width = 10\n",
    "cols = np.arange(xmin, xmax, width)\n",
    "rows = np.arange(ymin, ymax, length)"
   ]
  },
  {
   "cell_type": "code",
   "execution_count": 3,
   "id": "respected-jesus",
   "metadata": {},
   "outputs": [],
   "source": [
    "polygons = [Polygon([(x,y), \n",
    "                     (x+width, y),\n",
    "                     (x+width, y+length),\n",
    "                     (x, y+length)]) for x in cols for y in rows]\n",
    "grid = gpd.GeoDataFrame({'id': range(len(polygons)),  'geometry':polygons})"
   ]
  },
  {
   "cell_type": "code",
   "execution_count": 4,
   "id": "operational-motel",
   "metadata": {},
   "outputs": [],
   "source": [
    "grid['color'] = np.nan\n",
    "grid.loc[grid.id == 0, 'color'] = 1\n",
    "grid.loc[(grid.id == 1) | (grid.id == 18) | (grid.id == 19), 'color'] = 2"
   ]
  },
  {
   "cell_type": "code",
   "execution_count": 5,
   "id": "steady-incidence",
   "metadata": {},
   "outputs": [
    {
     "data": {
      "image/png": "[encoded data removed]",
      "text/plain": [
       "<Figure size 720x432 with 1 Axes>"
      ]
     },
     "metadata": {
      "needs_background": "light"
     },
     "output_type": "display_data"
    }
   ],
   "source": [
    "f, ax = plt.subplots(1,1, figsize=(10, 6))\n",
    "grid.plot(ax=ax, \n",
    "          column='color', \n",
    "          edgecolor='black', \n",
    "          missing_kwds = dict(color='white', label='No Data'))\n",
    "plt.show()"
   ]
  },
  {
   "cell_type": "code",
   "execution_count": 6,
   "id": "opening-particular",
   "metadata": {},
   "outputs": [],
   "source": [
    "pygeos_array = pygeos.io.from_shapely(grid.geometry)"
   ]
  },
  {
   "cell_type": "code",
   "execution_count": 7,
   "id": "fossil-friendly",
   "metadata": {},
   "outputs": [],
   "source": [
    "tree = pygeos.STRtree(pygeos_array)"
   ]
  },
  {
   "cell_type": "code",
   "execution_count": 8,
   "id": "aquatic-baltimore",
   "metadata": {},
   "outputs": [],
   "source": [
    "neighbors = tree.query_bulk(pygeos_array)"
   ]
  },
  {
   "cell_type": "code",
   "execution_count": 9,
   "id": "regional-davis",
   "metadata": {},
   "outputs": [],
   "source": [
    "neighbors_df = pd.DataFrame(neighbors.T, columns=['id_i', 'id_j'])\n",
    "neighbors_df = neighbors_df[neighbors_df.id_i != neighbors_df.id_j].reset_index(drop=True)"
   ]
  },
  {
   "cell_type": "code",
   "execution_count": 10,
   "id": "future-means",
   "metadata": {},
   "outputs": [
    {
     "data": {
      "text/html": [
       "<div>\n",
       "<style scoped>\n",
       "    .dataframe tbody tr th:only-of-type {\n",
       "        vertical-align: middle;\n",
       "    }\n",
       "\n",
       "    .dataframe tbody tr th {\n",
       "        vertical-align: top;\n",
       "    }\n",
       "\n",
       "    .dataframe thead th {\n",
       "        text-align: right;\n",
       "    }\n",
       "</style>\n",
       "<table border=\"1\" class=\"dataframe\">\n",
       "  <thead>\n",
       "    <tr style=\"text-align: right;\">\n",
       "      <th></th>\n",
       "      <th>id_i</th>\n",
       "      <th>id_j</th>\n",
       "    </tr>\n",
       "  </thead>\n",
       "  <tbody>\n",
       "    <tr>\n",
       "      <th>0</th>\n",
       "      <td>0</td>\n",
       "      <td>18</td>\n",
       "    </tr>\n",
       "    <tr>\n",
       "      <th>1</th>\n",
       "      <td>0</td>\n",
       "      <td>1</td>\n",
       "    </tr>\n",
       "    <tr>\n",
       "      <th>2</th>\n",
       "      <td>0</td>\n",
       "      <td>19</td>\n",
       "    </tr>\n",
       "    <tr>\n",
       "      <th>3</th>\n",
       "      <td>1</td>\n",
       "      <td>0</td>\n",
       "    </tr>\n",
       "    <tr>\n",
       "      <th>4</th>\n",
       "      <td>1</td>\n",
       "      <td>18</td>\n",
       "    </tr>\n",
       "    <tr>\n",
       "      <th>...</th>\n",
       "      <td>...</td>\n",
       "      <td>...</td>\n",
       "    </tr>\n",
       "    <tr>\n",
       "      <th>4859</th>\n",
       "      <td>646</td>\n",
       "      <td>647</td>\n",
       "    </tr>\n",
       "    <tr>\n",
       "      <th>4860</th>\n",
       "      <td>646</td>\n",
       "      <td>629</td>\n",
       "    </tr>\n",
       "    <tr>\n",
       "      <th>4861</th>\n",
       "      <td>647</td>\n",
       "      <td>646</td>\n",
       "    </tr>\n",
       "    <tr>\n",
       "      <th>4862</th>\n",
       "      <td>647</td>\n",
       "      <td>628</td>\n",
       "    </tr>\n",
       "    <tr>\n",
       "      <th>4863</th>\n",
       "      <td>647</td>\n",
       "      <td>629</td>\n",
       "    </tr>\n",
       "  </tbody>\n",
       "</table>\n",
       "<p>4864 rows × 2 columns</p>\n",
       "</div>"
      ],
      "text/plain": [
       "      id_i  id_j\n",
       "0        0    18\n",
       "1        0     1\n",
       "2        0    19\n",
       "3        1     0\n",
       "4        1    18\n",
       "...    ...   ...\n",
       "4859   646   647\n",
       "4860   646   629\n",
       "4861   647   646\n",
       "4862   647   628\n",
       "4863   647   629\n",
       "\n",
       "[4864 rows x 2 columns]"
      ]
     },
     "execution_count": 10,
     "metadata": {},
     "output_type": "execute_result"
    }
   ],
   "source": [
    "neighbors_df"
   ]
  },
  {
   "cell_type": "code",
   "execution_count": 11,
   "id": "exact-comedy",
   "metadata": {},
   "outputs": [
    {
     "data": {
      "text/plain": [
       "id_j\n",
       "8       544\n",
       "5       100\n",
       "3         4\n",
       "dtype: int64"
      ]
     },
     "execution_count": 11,
     "metadata": {},
     "output_type": "execute_result"
    }
   ],
   "source": [
    "neighbors_df.groupby('id_i').count().value_counts()"
   ]
  }
 ],
 "metadata": {
  "kernelspec": {
   "display_name": "Python 3",
   "language": "python",
   "name": "python3"
  },
  "language_info": {
   "codemirror_mode": {
    "name": "ipython",
    "version": 3
   },
   "file_extension": ".py",
   "mimetype": "text/x-python",
   "name": "python",
   "nbconvert_exporter": "python",
   "pygments_lexer": "ipython3",
   "version": "3.8.8"
  }
 },
 "nbformat": 4,
 "nbformat_minor": 5
}
