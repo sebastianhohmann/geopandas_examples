{
 "cells": [
  {
   "cell_type": "code",
   "execution_count": 1,
   "id": "organizational-married",
   "metadata": {},
   "outputs": [],
   "source": [
    "import pandas as pd\n",
    "import geopandas as gpd"
   ]
  },
  {
   "cell_type": "code",
   "execution_count": 2,
   "id": "sixth-disco",
   "metadata": {},
   "outputs": [],
   "source": [
    "df = pd.read_csv('./data/geocode_example.csv')"
   ]
  },
  {
   "cell_type": "code",
   "execution_count": 3,
   "id": "honey-barcelona",
   "metadata": {},
   "outputs": [
    {
     "data": {
      "text/html": [
       "<div>\n",
       "<style scoped>\n",
       "    .dataframe tbody tr th:only-of-type {\n",
       "        vertical-align: middle;\n",
       "    }\n",
       "\n",
       "    .dataframe tbody tr th {\n",
       "        vertical-align: top;\n",
       "    }\n",
       "\n",
       "    .dataframe thead th {\n",
       "        text-align: right;\n",
       "    }\n",
       "</style>\n",
       "<table border=\"1\" class=\"dataframe\">\n",
       "  <thead>\n",
       "    <tr style=\"text-align: right;\">\n",
       "      <th></th>\n",
       "      <th>location</th>\n",
       "      <th>address</th>\n",
       "    </tr>\n",
       "  </thead>\n",
       "  <tbody>\n",
       "    <tr>\n",
       "      <th>0</th>\n",
       "      <td>HEI campus</td>\n",
       "      <td>Chemin Eugene-Rigot 2A, 1202 Geneva, Switzerland</td>\n",
       "    </tr>\n",
       "    <tr>\n",
       "      <th>1</th>\n",
       "      <td>Museum of Red Cross and Red Crescent</td>\n",
       "      <td>Avenue de la Paix 17, 1202 Geneva, Switzerland</td>\n",
       "    </tr>\n",
       "    <tr>\n",
       "      <th>2</th>\n",
       "      <td>Paris</td>\n",
       "      <td>Paris, Ile de France, France</td>\n",
       "    </tr>\n",
       "    <tr>\n",
       "      <th>3</th>\n",
       "      <td>Munich</td>\n",
       "      <td>Muenchen, Bayern, Germany</td>\n",
       "    </tr>\n",
       "    <tr>\n",
       "      <th>4</th>\n",
       "      <td>Buckingham Palace</td>\n",
       "      <td>SW1A 1AA, United Kingdom</td>\n",
       "    </tr>\n",
       "  </tbody>\n",
       "</table>\n",
       "</div>"
      ],
      "text/plain": [
       "                               location  \\\n",
       "0                            HEI campus   \n",
       "1  Museum of Red Cross and Red Crescent   \n",
       "2                                 Paris   \n",
       "3                                Munich   \n",
       "4                     Buckingham Palace   \n",
       "\n",
       "                                            address  \n",
       "0  Chemin Eugene-Rigot 2A, 1202 Geneva, Switzerland  \n",
       "1    Avenue de la Paix 17, 1202 Geneva, Switzerland  \n",
       "2                      Paris, Ile de France, France  \n",
       "3                         Muenchen, Bayern, Germany  \n",
       "4                          SW1A 1AA, United Kingdom  "
      ]
     },
     "execution_count": 3,
     "metadata": {},
     "output_type": "execute_result"
    }
   ],
   "source": [
    "df"
   ]
  },
  {
   "cell_type": "markdown",
   "id": "abandoned-advisory",
   "metadata": {},
   "source": [
    "# 1 Using default settings"
   ]
  },
  {
   "cell_type": "markdown",
   "id": "front-carter",
   "metadata": {},
   "source": [
    "`geopandas` uses the [geopy](https://pypi.org/project/geopy/) python client to interact with many different popular geocoding web services. We start by using the default settings."
   ]
  },
  {
   "cell_type": "code",
   "execution_count": 4,
   "id": "detected-ranch",
   "metadata": {},
   "outputs": [],
   "source": [
    "locations = gpd.tools.geocode(df.address)"
   ]
  },
  {
   "cell_type": "code",
   "execution_count": 5,
   "id": "stable-hammer",
   "metadata": {},
   "outputs": [
    {
     "data": {
      "text/html": [
       "<div>\n",
       "<style scoped>\n",
       "    .dataframe tbody tr th:only-of-type {\n",
       "        vertical-align: middle;\n",
       "    }\n",
       "\n",
       "    .dataframe tbody tr th {\n",
       "        vertical-align: top;\n",
       "    }\n",
       "\n",
       "    .dataframe thead th {\n",
       "        text-align: right;\n",
       "    }\n",
       "</style>\n",
       "<table border=\"1\" class=\"dataframe\">\n",
       "  <thead>\n",
       "    <tr style=\"text-align: right;\">\n",
       "      <th></th>\n",
       "      <th>geometry</th>\n",
       "      <th>address</th>\n",
       "    </tr>\n",
       "  </thead>\n",
       "  <tbody>\n",
       "    <tr>\n",
       "      <th>0</th>\n",
       "      <td>POINT (6.14364 46.22076)</td>\n",
       "      <td>Chemin Eugène Rigot 2A, 1202 Geneva, Switzerland</td>\n",
       "    </tr>\n",
       "    <tr>\n",
       "      <th>1</th>\n",
       "      <td>POINT (6.13681 46.22776)</td>\n",
       "      <td>Avenue de la Paix 17, 1202 Geneva, Switzerland</td>\n",
       "    </tr>\n",
       "    <tr>\n",
       "      <th>2</th>\n",
       "      <td>POINT (2.35085 48.85690)</td>\n",
       "      <td>Paris, Paris, France, France</td>\n",
       "    </tr>\n",
       "    <tr>\n",
       "      <th>3</th>\n",
       "      <td>POINT (11.58022 48.13913)</td>\n",
       "      <td>Munich, BY, Germany, Germany</td>\n",
       "    </tr>\n",
       "    <tr>\n",
       "      <th>4</th>\n",
       "      <td>POINT (-0.14159 51.50101)</td>\n",
       "      <td>SW1A 1AA, London, London, United Kingdom, Unit...</td>\n",
       "    </tr>\n",
       "  </tbody>\n",
       "</table>\n",
       "</div>"
      ],
      "text/plain": [
       "                    geometry  \\\n",
       "0   POINT (6.14364 46.22076)   \n",
       "1   POINT (6.13681 46.22776)   \n",
       "2   POINT (2.35085 48.85690)   \n",
       "3  POINT (11.58022 48.13913)   \n",
       "4  POINT (-0.14159 51.50101)   \n",
       "\n",
       "                                             address  \n",
       "0   Chemin Eugène Rigot 2A, 1202 Geneva, Switzerland  \n",
       "1     Avenue de la Paix 17, 1202 Geneva, Switzerland  \n",
       "2                       Paris, Paris, France, France  \n",
       "3                       Munich, BY, Germany, Germany  \n",
       "4  SW1A 1AA, London, London, United Kingdom, Unit...  "
      ]
     },
     "execution_count": 5,
     "metadata": {},
     "output_type": "execute_result"
    }
   ],
   "source": [
    "locations"
   ]
  },
  {
   "cell_type": "markdown",
   "id": "maritime-locator",
   "metadata": {},
   "source": [
    "# 2 Using a different geocoding provider"
   ]
  },
  {
   "cell_type": "markdown",
   "id": "changed-fossil",
   "metadata": {},
   "source": [
    "By default, `geopandas` uses the [GeoCode.Farm geocoding API](https://geocode.farm/) to do the geocoding (i.e. the optional `provider` argument is set to `'geocodefarm'`). For the full set of available geocoders, see [HERE](https://geopy.readthedocs.io/en/latest/#geocoders). GeoCode.Farm allows a max of 250 queries per day and 4 queries per second as part of its free tier.\n",
    "\n",
    "In this example, we will be using the [Nominatim](https://nominatim.org/) geocoder, which makes use of the OpenStreetMaps database."
   ]
  },
  {
   "cell_type": "code",
   "execution_count": 6,
   "id": "specialized-pulse",
   "metadata": {},
   "outputs": [],
   "source": [
    "locations_2 = gpd.tools.geocode(df.address, provider='nominatim', user_agent='geocoding_test', timeout=1)"
   ]
  },
  {
   "cell_type": "code",
   "execution_count": 7,
   "id": "excited-swedish",
   "metadata": {},
   "outputs": [
    {
     "data": {
      "text/html": [
       "<div>\n",
       "<style scoped>\n",
       "    .dataframe tbody tr th:only-of-type {\n",
       "        vertical-align: middle;\n",
       "    }\n",
       "\n",
       "    .dataframe tbody tr th {\n",
       "        vertical-align: top;\n",
       "    }\n",
       "\n",
       "    .dataframe thead th {\n",
       "        text-align: right;\n",
       "    }\n",
       "</style>\n",
       "<table border=\"1\" class=\"dataframe\">\n",
       "  <thead>\n",
       "    <tr style=\"text-align: right;\">\n",
       "      <th></th>\n",
       "      <th>geometry</th>\n",
       "      <th>address</th>\n",
       "    </tr>\n",
       "  </thead>\n",
       "  <tbody>\n",
       "    <tr>\n",
       "      <th>0</th>\n",
       "      <td>POINT (6.14372 46.22320)</td>\n",
       "      <td>Chemin Eugène-Rigot, Sécheron, Pâquis, Genève,...</td>\n",
       "    </tr>\n",
       "    <tr>\n",
       "      <th>1</th>\n",
       "      <td>POINT (6.14450 46.22340)</td>\n",
       "      <td>Avenue de la Paix, Sécheron, Pâquis, Genève, G...</td>\n",
       "    </tr>\n",
       "    <tr>\n",
       "      <th>2</th>\n",
       "      <td>POINT (2.35146 48.85670)</td>\n",
       "      <td>Paris, Île-de-France, France métropolitaine, F...</td>\n",
       "    </tr>\n",
       "    <tr>\n",
       "      <th>3</th>\n",
       "      <td>POINT (11.57538 48.13711)</td>\n",
       "      <td>München, Bayern, Deutschland</td>\n",
       "    </tr>\n",
       "    <tr>\n",
       "      <th>4</th>\n",
       "      <td>POINT (-0.14159 51.50101)</td>\n",
       "      <td>City of Westminster, London, Greater London, E...</td>\n",
       "    </tr>\n",
       "  </tbody>\n",
       "</table>\n",
       "</div>"
      ],
      "text/plain": [
       "                    geometry  \\\n",
       "0   POINT (6.14372 46.22320)   \n",
       "1   POINT (6.14450 46.22340)   \n",
       "2   POINT (2.35146 48.85670)   \n",
       "3  POINT (11.57538 48.13711)   \n",
       "4  POINT (-0.14159 51.50101)   \n",
       "\n",
       "                                             address  \n",
       "0  Chemin Eugène-Rigot, Sécheron, Pâquis, Genève,...  \n",
       "1  Avenue de la Paix, Sécheron, Pâquis, Genève, G...  \n",
       "2  Paris, Île-de-France, France métropolitaine, F...  \n",
       "3                       München, Bayern, Deutschland  \n",
       "4  City of Westminster, London, Greater London, E...  "
      ]
     },
     "execution_count": 7,
     "metadata": {},
     "output_type": "execute_result"
    }
   ],
   "source": [
    "locations_2"
   ]
  },
  {
   "cell_type": "markdown",
   "id": "phantom-drill",
   "metadata": {},
   "source": [
    "Note the use of the `user_agent` parameter. This serves to limit the number of requests per application. If you are making a lot of queries, Nominatim also asks you to provide an email address. See here for more details: https://gis.stackexchange.com/questions/293615/user-agent-argument-in-nominatim-in-geopy\n",
    "\n",
    "The `timeout` parameter sets the number of seconds we are willing to wait for response from the service."
   ]
  },
  {
   "cell_type": "markdown",
   "id": "medieval-overhead",
   "metadata": {},
   "source": [
    "If you have a large dataframe to geocode, consider\n",
    "\n",
    "- paying for a service\n",
    "- using a `Rate Limiter` from `geopy`. See here for more details:\n",
    "https://geopy.readthedocs.io/en/stable/index.html?highlight=rate%20limiter#module-geopy.extra.rate_limiter"
   ]
  }
 ],
 "metadata": {
  "kernelspec": {
   "display_name": "Python 3",
   "language": "python",
   "name": "python3"
  },
  "language_info": {
   "codemirror_mode": {
    "name": "ipython",
    "version": 3
   },
   "file_extension": ".py",
   "mimetype": "text/x-python",
   "name": "python",
   "nbconvert_exporter": "python",
   "pygments_lexer": "ipython3",
   "version": "3.8.8"
  }
 },
 "nbformat": 4,
 "nbformat_minor": 5
}
