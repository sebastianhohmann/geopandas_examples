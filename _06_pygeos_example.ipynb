{
 "cells": [
  {
   "cell_type": "code",
   "execution_count": 1,
   "id": "sophisticated-physics",
   "metadata": {},
   "outputs": [],
   "source": [
    "import pandas as pd\n",
    "import geopandas as gpd\n",
    "import time"
   ]
  },
  {
   "cell_type": "code",
   "execution_count": 2,
   "id": "falling-official",
   "metadata": {},
   "outputs": [
    {
     "data": {
      "text/plain": [
       "False"
      ]
     },
     "execution_count": 2,
     "metadata": {},
     "output_type": "execute_result"
    }
   ],
   "source": [
    "gpd.options.use_pygeos = False\n",
    "gpd.options.use_pygeos"
   ]
  },
  {
   "cell_type": "code",
   "execution_count": 3,
   "id": "chief-video",
   "metadata": {},
   "outputs": [],
   "source": [
    "world = gpd.read_file('./data/ne_10m_admin_0_countries/ne_10m_admin_0_countries.shp')\n",
    "langa = gpd.read_file('./data/langa/langa.shp')"
   ]
  },
  {
   "cell_type": "code",
   "execution_count": 4,
   "id": "warming-bernard",
   "metadata": {},
   "outputs": [
    {
     "name": "stdout",
     "output_type": "stream",
     "text": [
      "35.684585094451904\n"
     ]
    }
   ],
   "source": [
    "start_time = time.time()\n",
    "gpd_int = gpd.overlay(world, langa, how='intersection')\n",
    "print(time.time() - start_time)"
   ]
  },
  {
   "cell_type": "code",
   "execution_count": 5,
   "id": "fallen-maldives",
   "metadata": {},
   "outputs": [
    {
     "data": {
      "text/plain": [
       "True"
      ]
     },
     "execution_count": 5,
     "metadata": {},
     "output_type": "execute_result"
    }
   ],
   "source": [
    "gpd.options.use_pygeos = True\n",
    "gpd.options.use_pygeos"
   ]
  },
  {
   "cell_type": "code",
   "execution_count": 6,
   "id": "figured-authorization",
   "metadata": {},
   "outputs": [],
   "source": [
    "world = gpd.read_file('./data/ne_10m_admin_0_countries/ne_10m_admin_0_countries.shp')\n",
    "langa = gpd.read_file('./data/langa/langa.shp')"
   ]
  },
  {
   "cell_type": "code",
   "execution_count": 7,
   "id": "excessive-daughter",
   "metadata": {},
   "outputs": [
    {
     "name": "stdout",
     "output_type": "stream",
     "text": [
      "35.854341983795166\n"
     ]
    }
   ],
   "source": [
    "start_time = time.time()\n",
    "gpd_int = gpd.overlay(world, langa, how='intersection')\n",
    "print(time.time() - start_time)"
   ]
  }
 ],
 "metadata": {
  "kernelspec": {
   "display_name": "Python 3",
   "language": "python",
   "name": "python3"
  },
  "language_info": {
   "codemirror_mode": {
    "name": "ipython",
    "version": 3
   },
   "file_extension": ".py",
   "mimetype": "text/x-python",
   "name": "python",
   "nbconvert_exporter": "python",
   "pygments_lexer": "ipython3",
   "version": "3.8.8"
  }
 },
 "nbformat": 4,
 "nbformat_minor": 5
}
